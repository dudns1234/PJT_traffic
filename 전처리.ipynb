{
 "cells": [
  {
   "cell_type": "code",
   "execution_count": 1,
   "metadata": {},
   "outputs": [],
   "source": [
    "import pandas as pd\n",
    "import numpy as np"
   ]
  },
  {
   "cell_type": "markdown",
   "metadata": {},
   "source": [
    "## 부산데이터셋 생성"
   ]
  },
  {
   "cell_type": "code",
   "execution_count": 4,
   "metadata": {},
   "outputs": [
    {
     "name": "stdout",
     "output_type": "stream",
     "text": [
      "불법유턴\n"
     ]
    },
    {
     "name": "stderr",
     "output_type": "stream",
     "text": [
      "C:\\Users\\yujin\\AppData\\Local\\Temp\\ipykernel_6348\\2092250561.py:11: SettingWithCopyWarning: \n",
      "A value is trying to be set on a copy of a slice from a DataFrame.\n",
      "Try using .loc[row_indexer,col_indexer] = value instead\n",
      "\n",
      "See the caveats in the documentation: https://pandas.pydata.org/pandas-docs/stable/user_guide/indexing.html#returning-a-view-versus-a-copy\n",
      "  data_busan['시도'] = data_busan['주소'].str.split().str[0]\n",
      "C:\\Users\\yujin\\AppData\\Local\\Temp\\ipykernel_6348\\2092250561.py:12: SettingWithCopyWarning: \n",
      "A value is trying to be set on a copy of a slice from a DataFrame.\n",
      "Try using .loc[row_indexer,col_indexer] = value instead\n",
      "\n",
      "See the caveats in the documentation: https://pandas.pydata.org/pandas-docs/stable/user_guide/indexing.html#returning-a-view-versus-a-copy\n",
      "  data_busan['시군구'] = data_busan['주소'].str.split().str[1]\n",
      "C:\\Users\\yujin\\AppData\\Local\\Temp\\ipykernel_6348\\2092250561.py:13: SettingWithCopyWarning: \n",
      "A value is trying to be set on a copy of a slice from a DataFrame.\n",
      "Try using .loc[row_indexer,col_indexer] = value instead\n",
      "\n",
      "See the caveats in the documentation: https://pandas.pydata.org/pandas-docs/stable/user_guide/indexing.html#returning-a-view-versus-a-copy\n",
      "  data_busan['읍면동'] = data_busan['주소'].str.split().str[2]\n",
      "C:\\Users\\yujin\\AppData\\Local\\Temp\\ipykernel_6348\\2092250561.py:14: SettingWithCopyWarning: \n",
      "A value is trying to be set on a copy of a slice from a DataFrame.\n",
      "Try using .loc[row_indexer,col_indexer] = value instead\n",
      "\n",
      "See the caveats in the documentation: https://pandas.pydata.org/pandas-docs/stable/user_guide/indexing.html#returning-a-view-versus-a-copy\n",
      "  data_busan['리/길'] =  data_busan['주소'].str.split().str[3]\n"
     ]
    },
    {
     "name": "stdout",
     "output_type": "stream",
     "text": [
      "불법좌회전\n"
     ]
    },
    {
     "name": "stderr",
     "output_type": "stream",
     "text": [
      "C:\\Users\\yujin\\AppData\\Local\\Temp\\ipykernel_6348\\2092250561.py:11: SettingWithCopyWarning: \n",
      "A value is trying to be set on a copy of a slice from a DataFrame.\n",
      "Try using .loc[row_indexer,col_indexer] = value instead\n",
      "\n",
      "See the caveats in the documentation: https://pandas.pydata.org/pandas-docs/stable/user_guide/indexing.html#returning-a-view-versus-a-copy\n",
      "  data_busan['시도'] = data_busan['주소'].str.split().str[0]\n",
      "C:\\Users\\yujin\\AppData\\Local\\Temp\\ipykernel_6348\\2092250561.py:12: SettingWithCopyWarning: \n",
      "A value is trying to be set on a copy of a slice from a DataFrame.\n",
      "Try using .loc[row_indexer,col_indexer] = value instead\n",
      "\n",
      "See the caveats in the documentation: https://pandas.pydata.org/pandas-docs/stable/user_guide/indexing.html#returning-a-view-versus-a-copy\n",
      "  data_busan['시군구'] = data_busan['주소'].str.split().str[1]\n",
      "C:\\Users\\yujin\\AppData\\Local\\Temp\\ipykernel_6348\\2092250561.py:13: SettingWithCopyWarning: \n",
      "A value is trying to be set on a copy of a slice from a DataFrame.\n",
      "Try using .loc[row_indexer,col_indexer] = value instead\n",
      "\n",
      "See the caveats in the documentation: https://pandas.pydata.org/pandas-docs/stable/user_guide/indexing.html#returning-a-view-versus-a-copy\n",
      "  data_busan['읍면동'] = data_busan['주소'].str.split().str[2]\n",
      "C:\\Users\\yujin\\AppData\\Local\\Temp\\ipykernel_6348\\2092250561.py:14: SettingWithCopyWarning: \n",
      "A value is trying to be set on a copy of a slice from a DataFrame.\n",
      "Try using .loc[row_indexer,col_indexer] = value instead\n",
      "\n",
      "See the caveats in the documentation: https://pandas.pydata.org/pandas-docs/stable/user_guide/indexing.html#returning-a-view-versus-a-copy\n",
      "  data_busan['리/길'] =  data_busan['주소'].str.split().str[3]\n"
     ]
    },
    {
     "name": "stdout",
     "output_type": "stream",
     "text": [
      "신호위반\n"
     ]
    },
    {
     "name": "stderr",
     "output_type": "stream",
     "text": [
      "C:\\Users\\yujin\\AppData\\Local\\Temp\\ipykernel_6348\\2092250561.py:11: SettingWithCopyWarning: \n",
      "A value is trying to be set on a copy of a slice from a DataFrame.\n",
      "Try using .loc[row_indexer,col_indexer] = value instead\n",
      "\n",
      "See the caveats in the documentation: https://pandas.pydata.org/pandas-docs/stable/user_guide/indexing.html#returning-a-view-versus-a-copy\n",
      "  data_busan['시도'] = data_busan['주소'].str.split().str[0]\n",
      "C:\\Users\\yujin\\AppData\\Local\\Temp\\ipykernel_6348\\2092250561.py:12: SettingWithCopyWarning: \n",
      "A value is trying to be set on a copy of a slice from a DataFrame.\n",
      "Try using .loc[row_indexer,col_indexer] = value instead\n",
      "\n",
      "See the caveats in the documentation: https://pandas.pydata.org/pandas-docs/stable/user_guide/indexing.html#returning-a-view-versus-a-copy\n",
      "  data_busan['시군구'] = data_busan['주소'].str.split().str[1]\n",
      "C:\\Users\\yujin\\AppData\\Local\\Temp\\ipykernel_6348\\2092250561.py:13: SettingWithCopyWarning: \n",
      "A value is trying to be set on a copy of a slice from a DataFrame.\n",
      "Try using .loc[row_indexer,col_indexer] = value instead\n",
      "\n",
      "See the caveats in the documentation: https://pandas.pydata.org/pandas-docs/stable/user_guide/indexing.html#returning-a-view-versus-a-copy\n",
      "  data_busan['읍면동'] = data_busan['주소'].str.split().str[2]\n",
      "C:\\Users\\yujin\\AppData\\Local\\Temp\\ipykernel_6348\\2092250561.py:14: SettingWithCopyWarning: \n",
      "A value is trying to be set on a copy of a slice from a DataFrame.\n",
      "Try using .loc[row_indexer,col_indexer] = value instead\n",
      "\n",
      "See the caveats in the documentation: https://pandas.pydata.org/pandas-docs/stable/user_guide/indexing.html#returning-a-view-versus-a-copy\n",
      "  data_busan['리/길'] =  data_busan['주소'].str.split().str[3]\n"
     ]
    },
    {
     "name": "stdout",
     "output_type": "stream",
     "text": [
      "중앙선침범\n"
     ]
    },
    {
     "name": "stderr",
     "output_type": "stream",
     "text": [
      "C:\\Users\\yujin\\AppData\\Local\\Temp\\ipykernel_6348\\2092250561.py:11: SettingWithCopyWarning: \n",
      "A value is trying to be set on a copy of a slice from a DataFrame.\n",
      "Try using .loc[row_indexer,col_indexer] = value instead\n",
      "\n",
      "See the caveats in the documentation: https://pandas.pydata.org/pandas-docs/stable/user_guide/indexing.html#returning-a-view-versus-a-copy\n",
      "  data_busan['시도'] = data_busan['주소'].str.split().str[0]\n",
      "C:\\Users\\yujin\\AppData\\Local\\Temp\\ipykernel_6348\\2092250561.py:12: SettingWithCopyWarning: \n",
      "A value is trying to be set on a copy of a slice from a DataFrame.\n",
      "Try using .loc[row_indexer,col_indexer] = value instead\n",
      "\n",
      "See the caveats in the documentation: https://pandas.pydata.org/pandas-docs/stable/user_guide/indexing.html#returning-a-view-versus-a-copy\n",
      "  data_busan['시군구'] = data_busan['주소'].str.split().str[1]\n",
      "C:\\Users\\yujin\\AppData\\Local\\Temp\\ipykernel_6348\\2092250561.py:13: SettingWithCopyWarning: \n",
      "A value is trying to be set on a copy of a slice from a DataFrame.\n",
      "Try using .loc[row_indexer,col_indexer] = value instead\n",
      "\n",
      "See the caveats in the documentation: https://pandas.pydata.org/pandas-docs/stable/user_guide/indexing.html#returning-a-view-versus-a-copy\n",
      "  data_busan['읍면동'] = data_busan['주소'].str.split().str[2]\n",
      "C:\\Users\\yujin\\AppData\\Local\\Temp\\ipykernel_6348\\2092250561.py:14: SettingWithCopyWarning: \n",
      "A value is trying to be set on a copy of a slice from a DataFrame.\n",
      "Try using .loc[row_indexer,col_indexer] = value instead\n",
      "\n",
      "See the caveats in the documentation: https://pandas.pydata.org/pandas-docs/stable/user_guide/indexing.html#returning-a-view-versus-a-copy\n",
      "  data_busan['리/길'] =  data_busan['주소'].str.split().str[3]\n"
     ]
    },
    {
     "name": "stdout",
     "output_type": "stream",
     "text": [
      "진로변경방법위반\n"
     ]
    },
    {
     "name": "stderr",
     "output_type": "stream",
     "text": [
      "C:\\Users\\yujin\\AppData\\Local\\Temp\\ipykernel_6348\\2092250561.py:11: SettingWithCopyWarning: \n",
      "A value is trying to be set on a copy of a slice from a DataFrame.\n",
      "Try using .loc[row_indexer,col_indexer] = value instead\n",
      "\n",
      "See the caveats in the documentation: https://pandas.pydata.org/pandas-docs/stable/user_guide/indexing.html#returning-a-view-versus-a-copy\n",
      "  data_busan['시도'] = data_busan['주소'].str.split().str[0]\n",
      "C:\\Users\\yujin\\AppData\\Local\\Temp\\ipykernel_6348\\2092250561.py:12: SettingWithCopyWarning: \n",
      "A value is trying to be set on a copy of a slice from a DataFrame.\n",
      "Try using .loc[row_indexer,col_indexer] = value instead\n",
      "\n",
      "See the caveats in the documentation: https://pandas.pydata.org/pandas-docs/stable/user_guide/indexing.html#returning-a-view-versus-a-copy\n",
      "  data_busan['시군구'] = data_busan['주소'].str.split().str[1]\n",
      "C:\\Users\\yujin\\AppData\\Local\\Temp\\ipykernel_6348\\2092250561.py:13: SettingWithCopyWarning: \n",
      "A value is trying to be set on a copy of a slice from a DataFrame.\n",
      "Try using .loc[row_indexer,col_indexer] = value instead\n",
      "\n",
      "See the caveats in the documentation: https://pandas.pydata.org/pandas-docs/stable/user_guide/indexing.html#returning-a-view-versus-a-copy\n",
      "  data_busan['읍면동'] = data_busan['주소'].str.split().str[2]\n",
      "C:\\Users\\yujin\\AppData\\Local\\Temp\\ipykernel_6348\\2092250561.py:14: SettingWithCopyWarning: \n",
      "A value is trying to be set on a copy of a slice from a DataFrame.\n",
      "Try using .loc[row_indexer,col_indexer] = value instead\n",
      "\n",
      "See the caveats in the documentation: https://pandas.pydata.org/pandas-docs/stable/user_guide/indexing.html#returning-a-view-versus-a-copy\n",
      "  data_busan['리/길'] =  data_busan['주소'].str.split().str[3]\n"
     ]
    }
   ],
   "source": [
    "singo_dataset = ['불법유턴', '불법좌회전', '신호위반', '중앙선침범', '진로변경방법위반']\n",
    "\n",
    "for i in singo_dataset:\n",
    "    print(i)\n",
    "    data = pd.read_excel(f'./data/raw/{i}_v1.xlsx')\n",
    "\n",
    "    # 전국에서 부산으로 필터링\n",
    "    data_busan = data[data['주소'].str.startswith(\"부산광역시\")]\n",
    "\n",
    "    # 주소 -> 시도, 시군구, 읍면동, 리/길 분리\n",
    "    data_busan['시도'] = data_busan['주소'].str.split().str[0]\n",
    "    data_busan['시군구'] = data_busan['주소'].str.split().str[1]\n",
    "    data_busan['읍면동'] = data_busan['주소'].str.split().str[2]\n",
    "    data_busan['리/길'] =  data_busan['주소'].str.split().str[3]\n",
    "\n",
    "    # CSV 저장\n",
    "    data_busan.to_excel(f'{i}_busan.xlsx',index=False)  # to_csv 일 때 encoding=\"utf-8-sig\" 사용\n",
    "    "
   ]
  },
  {
   "cell_type": "markdown",
   "metadata": {},
   "source": [
    "## 도로분리대"
   ]
  },
  {
   "cell_type": "markdown",
   "metadata": {},
   "source": [
    "sample = './data/도로분리대/Z_NGII_N3L_C0520000.shp'\n",
    "sample = gpd.read_file(sample)\n",
    "sample"
   ]
  },
  {
   "cell_type": "code",
   "execution_count": null,
   "metadata": {},
   "outputs": [],
   "source": [
    "# geometry 타입 확인\n",
    "sample.dtypes"
   ]
  },
  {
   "cell_type": "code",
   "execution_count": null,
   "metadata": {},
   "outputs": [],
   "source": [
    "# 도로 분리대 데이터 공유\n",
    "# sample.to_csv('도로분리대_부산.csv',index=False, encoding=\"utf-8-sig\")"
   ]
  },
  {
   "cell_type": "markdown",
   "metadata": {},
   "source": [
    "## 부산 시군구 추출"
   ]
  },
  {
   "cell_type": "code",
   "execution_count": null,
   "metadata": {},
   "outputs": [],
   "source": [
    "import geopandas as gpd\n",
    "\n",
    "busan_sigun = './data/sig.shp'\n",
    "busan_sigun = gpd.read_file(busan_sigun, encoding='EUC-KR')\n",
    "busan_sigun"
   ]
  },
  {
   "cell_type": "code",
   "execution_count": null,
   "metadata": {},
   "outputs": [],
   "source": [
    "# SIG_CD : 시군구 단위 코드\n",
    "# 시군구 코드 앞의 2개 숫자 : 시도를 뜻(26 : 부산, 11: 서울 ...)\n",
    "result = busan_sigun[busan_sigun['SIG_CD'].astype(str).str[:2] == '26']\n",
    "result"
   ]
  },
  {
   "cell_type": "code",
   "execution_count": null,
   "metadata": {},
   "outputs": [],
   "source": [
    "# 부산 시군구만 추출 전달\n",
    "# result.to_csv('시군구_busan.csv',index=False, encoding=\"utf-8-sig\")"
   ]
  },
  {
   "cell_type": "markdown",
   "metadata": {},
   "source": [
    "## 군집용 데이터셋"
   ]
  },
  {
   "cell_type": "code",
   "execution_count": 2,
   "metadata": {},
   "outputs": [],
   "source": [
    "불법유턴 = pd.read_excel('./data/부산_신고데이터/불법유턴_busan.xlsx')\n",
    "불법좌회전 = pd.read_excel('./data/부산_신고데이터/불법좌회전_busan.xlsx')\n",
    "신호위반 = pd.read_excel('./data/부산_신고데이터/신호위반_busan.xlsx')\n",
    "중앙선침범 = pd.read_excel('./data/부산_신고데이터/중앙선침범_busan.xlsx')\n",
    "진로변경위반 = pd.read_excel('./data/부산_신고데이터/진로변경방법위반_busan.xlsx')"
   ]
  },
  {
   "cell_type": "code",
   "execution_count": 3,
   "metadata": {},
   "outputs": [
    {
     "data": {
      "text/html": [
       "<div>\n",
       "<style scoped>\n",
       "    .dataframe tbody tr th:only-of-type {\n",
       "        vertical-align: middle;\n",
       "    }\n",
       "\n",
       "    .dataframe tbody tr th {\n",
       "        vertical-align: top;\n",
       "    }\n",
       "\n",
       "    .dataframe thead th {\n",
       "        text-align: right;\n",
       "    }\n",
       "</style>\n",
       "<table border=\"1\" class=\"dataframe\">\n",
       "  <thead>\n",
       "    <tr style=\"text-align: right;\">\n",
       "      <th></th>\n",
       "      <th>경도</th>\n",
       "      <th>위도</th>\n",
       "    </tr>\n",
       "  </thead>\n",
       "  <tbody>\n",
       "    <tr>\n",
       "      <th>0</th>\n",
       "      <td>129.174680</td>\n",
       "      <td>35.171348</td>\n",
       "    </tr>\n",
       "    <tr>\n",
       "      <th>1</th>\n",
       "      <td>129.069211</td>\n",
       "      <td>35.212162</td>\n",
       "    </tr>\n",
       "    <tr>\n",
       "      <th>2</th>\n",
       "      <td>129.240392</td>\n",
       "      <td>35.272656</td>\n",
       "    </tr>\n",
       "    <tr>\n",
       "      <th>3</th>\n",
       "      <td>129.125582</td>\n",
       "      <td>35.165538</td>\n",
       "    </tr>\n",
       "    <tr>\n",
       "      <th>4</th>\n",
       "      <td>129.101073</td>\n",
       "      <td>35.133353</td>\n",
       "    </tr>\n",
       "    <tr>\n",
       "      <th>...</th>\n",
       "      <td>...</td>\n",
       "      <td>...</td>\n",
       "    </tr>\n",
       "    <tr>\n",
       "      <th>6101</th>\n",
       "      <td>129.056099</td>\n",
       "      <td>35.136057</td>\n",
       "    </tr>\n",
       "    <tr>\n",
       "      <th>6102</th>\n",
       "      <td>129.070428</td>\n",
       "      <td>35.200899</td>\n",
       "    </tr>\n",
       "    <tr>\n",
       "      <th>6103</th>\n",
       "      <td>129.118027</td>\n",
       "      <td>35.193340</td>\n",
       "    </tr>\n",
       "    <tr>\n",
       "      <th>6104</th>\n",
       "      <td>128.895433</td>\n",
       "      <td>35.165605</td>\n",
       "    </tr>\n",
       "    <tr>\n",
       "      <th>6105</th>\n",
       "      <td>128.999676</td>\n",
       "      <td>35.089699</td>\n",
       "    </tr>\n",
       "  </tbody>\n",
       "</table>\n",
       "<p>19814 rows × 2 columns</p>\n",
       "</div>"
      ],
      "text/plain": [
       "              경도         위도\n",
       "0     129.174680  35.171348\n",
       "1     129.069211  35.212162\n",
       "2     129.240392  35.272656\n",
       "3     129.125582  35.165538\n",
       "4     129.101073  35.133353\n",
       "...          ...        ...\n",
       "6101  129.056099  35.136057\n",
       "6102  129.070428  35.200899\n",
       "6103  129.118027  35.193340\n",
       "6104  128.895433  35.165605\n",
       "6105  128.999676  35.089699\n",
       "\n",
       "[19814 rows x 2 columns]"
      ]
     },
     "execution_count": 3,
     "metadata": {},
     "output_type": "execute_result"
    }
   ],
   "source": [
    "# 군집용v1 데이터프레임 제작 => 전체 신고데이터의 위도, 경도를 따로 구분없이 전부 다 복붙\n",
    "singo_dataset = [불법좌회전, 신호위반, 중앙선침범, 진로변경위반]\n",
    "\n",
    "df = 불법유턴[['경도','위도']]\n",
    "\n",
    "for column in singo_dataset:\n",
    "    df = pd.concat([df,column[['경도','위도']]])\n",
    "\n",
    "df"
   ]
  },
  {
   "cell_type": "code",
   "execution_count": 6,
   "metadata": {},
   "outputs": [],
   "source": [
    "df.to_excel('군집용_v1.xlsx',index=False)"
   ]
  },
  {
   "cell_type": "code",
   "execution_count": null,
   "metadata": {},
   "outputs": [],
   "source": []
  }
 ],
 "metadata": {
  "kernelspec": {
   "display_name": "Python 3",
   "language": "python",
   "name": "python3"
  },
  "language_info": {
   "codemirror_mode": {
    "name": "ipython",
    "version": 3
   },
   "file_extension": ".py",
   "mimetype": "text/x-python",
   "name": "python",
   "nbconvert_exporter": "python",
   "pygments_lexer": "ipython3",
   "version": "3.10.11"
  }
 },
 "nbformat": 4,
 "nbformat_minor": 2
}
